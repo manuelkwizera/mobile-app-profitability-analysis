{
 "cells": [
  {
   "cell_type": "markdown",
   "id": "4194b8cb-150e-4293-a6f5-8490e43acf25",
   "metadata": {},
   "source": [
    "**Mobile App Profitability Analysis** \n",
    "\n",
    "This is a data-driven project focused on identifying profitable app profiles in the App Store and Google Play markets. By analyzing key metrics and trends, the project aims to guide developers in making informed decisions about the types of apps to build, maximizing potential revenue and market success."
   ]
  },
  {
   "cell_type": "code",
   "execution_count": 14,
   "id": "354f5d6c-8000-419f-a5f9-07e3186128dd",
   "metadata": {},
   "outputs": [],
   "source": [
    "from csv import reader\n",
    "\n",
    "# Google play dataset\n",
    "opened_csv_file = open('googleplaystore.csv') # open the csv file in read mode\n",
    "read_csv_file = reader(opened_csv_file) # read the csv file \n",
    "android_list = list(read_csv_file) # convert the interable csv  into a list of list, this means that it will in form of a dataframe\n",
    "android_list_header = android_list[0] # get the list headers\n",
    "android_list = android_list[1:] # remove first row index from the dataset"
   ]
  },
  {
   "cell_type": "code",
   "execution_count": 20,
   "id": "2320b9eb-3473-43d6-bd84-83235134f27e",
   "metadata": {},
   "outputs": [],
   "source": [
    "# apple store dataset\n",
    "opened_csv_file = open('AppleStore.csv') # open the csv file in read mode\n",
    "read_csv_file = reader(opened_csv_file) # read csv file, this return the csv object \n",
    "ios_list = list(read_csv_file) # convert the csv file into object\n",
    "ios_list_header = ios_list[0] # get the list headers which are om index 0\n",
    "ios_list = ios_list[1:] # remove headers from the list which are on the index 0"
   ]
  },
  {
   "cell_type": "code",
   "execution_count": 11,
   "id": "cca56e5c-676f-4596-924a-ce74c49b4929",
   "metadata": {},
   "outputs": [],
   "source": [
    "\"\"\"\n",
    "This function will help us to the explore both the dataset, it receive the dataset as the first argument\n",
    "start: the index where the slicing begins\n",
    "end: the index where the slicing ends\n",
    "rows_and_columns: this is a boolean variabe weither you want to display the number of rows and cols, this variable should be set to true\n",
    "\"\"\"\n",
    "def explore_data(dataset, start, end, rows_and_columns=False):\n",
    "    dataset_slice = dataset[start:end]    \n",
    "    for row in dataset_slice:\n",
    "        print(row)\n",
    "        print('\\n') # adds a new (empty) line after each row\n",
    "\n",
    "    if rows_and_columns:\n",
    "        print('Number of rows:', len(dataset))\n",
    "        print('Number of columns:', len(dataset[0]))"
   ]
  },
  {
   "cell_type": "markdown",
   "id": "db05f996-70c4-4986-9779-ade2d2edea06",
   "metadata": {},
   "source": [
    "We will use explore_data() function to explore our data set"
   ]
  },
  {
   "cell_type": "code",
   "execution_count": 32,
   "id": "bcac0a5d-4262-4da8-9096-e7174a42d86c",
   "metadata": {},
   "outputs": [
    {
     "name": "stdout",
     "output_type": "stream",
     "text": [
      "['App', 'Category', 'Rating', 'Reviews', 'Size', 'Installs', 'Type', 'Price', 'Content Rating', 'Genres', 'Last Updated', 'Current Ver', 'Android Ver']\n",
      "\n",
      "\n",
      "['Photo Editor & Candy Camera & Grid & ScrapBook', 'ART_AND_DESIGN', '4.1', '159', '19M', '10,000+', 'Free', '0', 'Everyone', 'Art & Design', 'January 7, 2018', '1.0.0', '4.0.3 and up']\n",
      "\n",
      "\n",
      "['Coloring book moana', 'ART_AND_DESIGN', '3.9', '967', '14M', '500,000+', 'Free', '0', 'Everyone', 'Art & Design;Pretend Play', 'January 15, 2018', '2.0.0', '4.0.3 and up']\n",
      "\n",
      "\n",
      "['U Launcher Lite – FREE Live Cool Themes, Hide Apps', 'ART_AND_DESIGN', '4.7', '87510', '8.7M', '5,000,000+', 'Free', '0', 'Everyone', 'Art & Design', 'August 1, 2018', '1.2.4', '4.0.3 and up']\n",
      "\n",
      "\n",
      "['Sketch - Draw & Paint', 'ART_AND_DESIGN', '4.5', '215644', '25M', '50,000,000+', 'Free', '0', 'Teen', 'Art & Design', 'June 8, 2018', 'Varies with device', '4.2 and up']\n",
      "\n",
      "\n",
      "Number of rows: 10840\n",
      "Number of columns: 13\n"
     ]
    }
   ],
   "source": [
    "print(android_list_header) # we need to show the ios list heaser\n",
    "print(\"\\n\")\n",
    "explore_data(android_list, 0, 4, True) # here we are using our explore data function to visualize our data set"
   ]
  },
  {
   "cell_type": "markdown",
   "id": "e3e5119d-39d8-4ad8-9aed-5b9885cc7b46",
   "metadata": {},
   "source": [
    "We have some incorrect rows from the android dataset (we can check for these rows and compare them with other rows)"
   ]
  },
  {
   "cell_type": "code",
   "execution_count": 27,
   "id": "e89a78a7-0a7d-47eb-8e3d-7150be0b95b5",
   "metadata": {},
   "outputs": [
    {
     "name": "stdout",
     "output_type": "stream",
     "text": [
      "['Life Made WI-Fi Touchscreen Photo Frame', '1.9', '19', '3.0M', '1,000+', 'Free', '0', 'Everyone', '', 'February 11, 2018', '1.0.19', '4.0 and up']\n",
      "\n",
      "\n",
      "['App', 'Category', 'Rating', 'Reviews', 'Size', 'Installs', 'Type', 'Price', 'Content Rating', 'Genres', 'Last Updated', 'Current Ver', 'Android Ver']\n",
      "\n",
      "\n",
      "['Photo Editor & Candy Camera & Grid & ScrapBook', 'ART_AND_DESIGN', '4.1', '159', '19M', '10,000+', 'Free', '0', 'Everyone', 'Art & Design', 'January 7, 2018', '1.0.0', '4.0.3 and up']\n"
     ]
    }
   ],
   "source": [
    "print(android_list[10472]) #this is a row which contains some incorrect data\n",
    "print(\"\\n\")\n",
    "print(android_list_header)\n",
    "print(\"\\n\")\n",
    "print(android_list[0]) # we need to compare this row with our first row"
   ]
  },
  {
   "cell_type": "markdown",
   "id": "3f796bd1-f31f-416c-928c-da2bf06fc8ed",
   "metadata": {},
   "source": [
    "Based on the data for row \"10472\" in android data this clearly shows that this row contains incorrect data for \"Rating\" Column where it has \"19\" and the heighst rating for google play is \"5\" hence we will delete this row\n",
    "N.B: do not run the below code cell more than once"
   ]
  },
  {
   "cell_type": "code",
   "execution_count": 28,
   "id": "4b220b1a-f0fc-4d2a-9381-0f0c55b613cd",
   "metadata": {},
   "outputs": [
    {
     "name": "stdout",
     "output_type": "stream",
     "text": [
      "10841\n",
      "10840\n"
     ]
    }
   ],
   "source": [
    "print(len(android_list)) #verify the number of rows we have in our dataset\n",
    "del android_list[10472] # this delete the row index from the android_list\n",
    "print(len(android_list))"
   ]
  },
  {
   "cell_type": "markdown",
   "id": "e1a92475-813a-461e-b5b4-03dca0871416",
   "metadata": {},
   "source": [
    "**DATA CELEANING** In this part we are going to perform data cleaning operations \n",
    "1. deleting rows or columns with missing data that are not critical for the analysis\n",
    "2. identifying and correcting errors in the data entries such as typo errors\n",
    "3. ensuring consistency in the data formats\n",
    "4. identifying and removing duplicates from the datasets\n",
    "5. finally removing data which are irrelevant to the analsis"
   ]
  },
  {
   "cell_type": "markdown",
   "id": "ca91feb1-17b2-4f22-8b12-903b87572d92",
   "metadata": {},
   "source": [
    "we need to check for duplicate entries in our a dataset \n",
    "1. we will need to create two lists, one which stores duplicate app in our dataset and another one which stores names of unique app from the dataset\n",
    "2. first check if the app name is existing from the unique app list\n",
    "3. if it exist append it the duplicate_apps list\n",
    "4. if it does not exist in the unique_apps list add it in the unique_apps list since it will be our first app name\n"
   ]
  },
  {
   "cell_type": "code",
   "execution_count": 36,
   "id": "11bd39a6-84a6-4155-adc9-ab4aeac5cfd7",
   "metadata": {},
   "outputs": [
    {
     "name": "stdout",
     "output_type": "stream",
     "text": [
      "Number of duplicate apps:  1181\n",
      "\n",
      "\n",
      "Some of the duplicate apps  ['Quick PDF Scanner + OCR FREE', 'Box', 'Google My Business', 'ZOOM Cloud Meetings', 'join.me - Simple Meetings', 'Box', 'Zenefits', 'Google Ads', 'Google My Business', 'Slack', 'FreshBooks Classic', 'Insightly CRM', 'QuickBooks Accounting: Invoicing & Expenses', 'HipChat - Chat Built for Teams', 'Xero Accounting Software']\n"
     ]
    }
   ],
   "source": [
    "duplicate_apps = []\n",
    "unique_apps = []\n",
    "\n",
    "for app in android_list:\n",
    "    app_name = app[0]\n",
    "    if app_name in unique_apps:\n",
    "        duplicate_apps.append(app_name)\n",
    "    else:\n",
    "        unique_apps.append(app_name)\n",
    "\n",
    "print(\"Number of duplicate apps: \", len(duplicate_apps))\n",
    "print(\"\\n\")\n",
    "print(\"Some of the duplicate apps \", duplicate_apps[:15])"
   ]
  },
  {
   "cell_type": "code",
   "execution_count": null,
   "id": "ba51776d-f579-4cd3-a807-4e094fd32583",
   "metadata": {},
   "outputs": [],
   "source": []
  }
 ],
 "metadata": {
  "kernelspec": {
   "display_name": "Python 3 (ipykernel)",
   "language": "python",
   "name": "python3"
  },
  "language_info": {
   "codemirror_mode": {
    "name": "ipython",
    "version": 3
   },
   "file_extension": ".py",
   "mimetype": "text/x-python",
   "name": "python",
   "nbconvert_exporter": "python",
   "pygments_lexer": "ipython3",
   "version": "3.12.3"
  }
 },
 "nbformat": 4,
 "nbformat_minor": 5
}
